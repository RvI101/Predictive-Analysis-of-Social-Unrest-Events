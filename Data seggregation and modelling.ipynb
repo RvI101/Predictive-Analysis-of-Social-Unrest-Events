{
 "cells": [
  {
   "cell_type": "code",
   "execution_count": 85,
   "metadata": {},
   "outputs": [],
   "source": [
    "import requests\n",
    "from IPython.display import HTML\n",
    "import csv\n",
    "import dateutil.parser\n",
    "from newspaper import Article\n",
    "import pandas\n",
    "from sklearn.feature_extraction.text import TfidfVectorizer\n",
    "import numpy as np\n",
    "from sklearn.utils import shuffle"
   ]
  },
  {
   "cell_type": "code",
   "execution_count": 86,
   "metadata": {},
   "outputs": [],
   "source": [
    "df = pandas.read_csv('bingNewsMatch.csv')\n",
    "df = shuffle(df) \n",
    "training_limit = math.ceil(len(df) * 0.8)\n",
    "validation_limit = len(df)- training_limit\n",
    "i=0\n",
    "training_data=[]\n",
    "validation_data=[]\n",
    "for index, row in df.iterrows():\n",
    "    date_pub = dateutil.parser.parse(row['DatePublished'])\n",
    "    if i <= training_limit:\n",
    "        arr = [date_pub,row['Name'],row['Text'],row['Label'],row['Summary'],row['Keywords']]\n",
    "        training_data.append(arr)\n",
    "    else:\n",
    "        arr = [date_pub,row['Name'],row['Text'],row['Label'],row['Summary'],row['Keywords']]\n",
    "        validation_data.append(arr)\n",
    "    i=i+1 "
   ]
  },
  {
   "cell_type": "code",
   "execution_count": 79,
   "metadata": {},
   "outputs": [],
   "source": [
    "def getLabels(ip,op):\n",
    "    for i in range(len(ip)):\n",
    "        if ip[i][3] == 1.0:\n",
    "            op.append(1)\n",
    "        else:\n",
    "            op.append(0)\n",
    "    return op"
   ]
  },
  {
   "cell_type": "code",
   "execution_count": 80,
   "metadata": {},
   "outputs": [],
   "source": [
    "def getTextData(ip,op):\n",
    "    for i in range(len(ip)):\n",
    "        op.append(ip[i][2])\n",
    "    return op"
   ]
  },
  {
   "cell_type": "code",
   "execution_count": 87,
   "metadata": {},
   "outputs": [
    {
     "name": "stdout",
     "output_type": "stream",
     "text": [
      "853\n",
      "212\n"
     ]
    }
   ],
   "source": [
    "print(len(training_data))\n",
    "print(len(validation_data))\n",
    "training_labels = []\n",
    "validation_labels = []\n",
    "validation_Features=[]\n",
    "training_Features =[]\n",
    "\n",
    "training_labels = getLabels(training_data,training_labels)\n",
    "validation_labels = getLabels(validation_data,validation_labels)\n",
    "training_Features = getTextData(training_data,training_Features)\n",
    "validation_Features = getTextData(training_data,validation_Features)\n",
    "\n",
    "whole_data = []\n",
    "whole_labels = []\n",
    "for index, row in df.iterrows():\n",
    "    date_pub = dateutil.parser.parse(row['DatePublished'])\n",
    "    arr = [date_pub,row['Name'],row['Text'],row['Label'],row['Summary'],row['Keywords']]\n",
    "    if row['Text'] is np.nan:\n",
    "        whole_data.append(\"\")\n",
    "    else:\n",
    "        whole_data.append(row['Text'])\n",
    "    if row['Label'] == 1.0:\n",
    "        whole_labels.append(1)\n",
    "    else:\n",
    "        whole_labels.append(0)"
   ]
  },
  {
   "cell_type": "code",
   "execution_count": 88,
   "metadata": {},
   "outputs": [
    {
     "name": "stderr",
     "output_type": "stream",
     "text": [
      "/Users/dhayanidhigunasekaran/anaconda/lib/python3.5/site-packages/sklearn/feature_selection/univariate_selection.py:108: RuntimeWarning: invalid value encountered in true_divide\n",
      "  msb = ssbn / float(dfbn)\n",
      "/Users/dhayanidhigunasekaran/anaconda/lib/python3.5/site-packages/scipy/stats/stats.py:1713: FutureWarning: Using a non-tuple sequence for multidimensional indexing is deprecated; use `arr[tuple(seq)]` instead of `arr[seq]`. In the future this will be interpreted as an array index, `arr[np.array(seq)]`, which will result either in an error or a different result.\n",
      "  return np.add.reduce(sorted[indexer] * weights, axis=axis) / sumval\n"
     ]
    }
   ],
   "source": [
    "from sklearn import cross_validation\n",
    "from sklearn.feature_extraction.text import TfidfVectorizer\n",
    "from sklearn.feature_selection import SelectPercentile, f_classif\n",
    "        \n",
    "features_train, features_test, labels_train, labels_test = cross_validation.train_test_split(np.array(whole_data), np.array(whole_labels), test_size=0.1, random_state=42)\n",
    "sample_art = [\"SRINAGAR, India (AP) - Anti-India protests and clashes erupted in disputed Kashmir on Saturday after a gunbattle between militants and government forces killed four rebels, police and residents said.According to rights groups, they include at least 269 militants, 158 members of Indian government forces and 156 civilians.Indian troops early Saturday surrounded a southern village in the Pulwama area on a tip that militants were hiding there, leading to an exchange of gunfire, police said.Residents said government forces blasted one civilian house with explosives during the fighting, a common counterinsurgency tactic by Indian troops in Kashmir.Rebels have been fighting Indian control since 1989.\"]\n",
    "\n",
    "\n",
    "### text vectorization--go from strings to lists of numbers\n",
    "vectorizer = TfidfVectorizer(sublinear_tf=True, max_df=0.5,\n",
    "                                 stop_words='english')\n",
    "features_train_transformed = vectorizer.fit_transform(features_train)\n",
    "features_test_transformed  = vectorizer.transform(features_test)\n",
    "sample_article = vectorizer.transform(sample_art)\n",
    "\n",
    "### feature selection, because text is super high dimensional and \n",
    "### can be really computationally chewy as a result\n",
    "selector = SelectPercentile(f_classif, percentile=25)\n",
    "selector.fit(features_train_transformed, labels_train)\n",
    "features_train_transformed = selector.transform(features_train_transformed).toarray()\n",
    "features_test_transformed  = selector.transform(features_test_transformed).toarray()\n",
    "sample_article = selector.transform(sample_article).toarray()"
   ]
  },
  {
   "cell_type": "code",
   "execution_count": 89,
   "metadata": {},
   "outputs": [
    {
     "data": {
      "text/plain": [
       "GaussianNB(priors=None)"
      ]
     },
     "execution_count": 89,
     "metadata": {},
     "output_type": "execute_result"
    }
   ],
   "source": [
    "from sklearn.naive_bayes import GaussianNB\n",
    "clf = GaussianNB()\n",
    "clf.fit(features_train_transformed, labels_train)"
   ]
  },
  {
   "cell_type": "code",
   "execution_count": 90,
   "metadata": {},
   "outputs": [
    {
     "name": "stdout",
     "output_type": "stream",
     "text": [
      "possiblity of protests \n"
     ]
    }
   ],
   "source": [
    "if clf.predict(sample_article) == 1:\n",
    "    print(\"possiblity of protests \")\n",
    "else:\n",
    "    print(\"No possibility of protests\")"
   ]
  },
  {
   "cell_type": "code",
   "execution_count": null,
   "metadata": {},
   "outputs": [],
   "source": []
  }
 ],
 "metadata": {
  "kernelspec": {
   "display_name": "Python 3",
   "language": "python",
   "name": "python3"
  },
  "language_info": {
   "codemirror_mode": {
    "name": "ipython",
    "version": 3
   },
   "file_extension": ".py",
   "mimetype": "text/x-python",
   "name": "python",
   "nbconvert_exporter": "python",
   "pygments_lexer": "ipython3",
   "version": "3.5.5"
  }
 },
 "nbformat": 4,
 "nbformat_minor": 2
}
