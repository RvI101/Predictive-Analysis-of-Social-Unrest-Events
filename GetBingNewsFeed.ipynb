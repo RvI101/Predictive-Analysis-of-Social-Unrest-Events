{
 "cells": [
  {
   "cell_type": "code",
   "execution_count": 297,
   "metadata": {},
   "outputs": [],
   "source": [
    "import requests\n",
    "from IPython.display import HTML\n",
    "import csv\n",
    "import dateutil.parser\n",
    "from newspaper import Article\n",
    "import pandas"
   ]
  },
  {
   "cell_type": "code",
   "execution_count": 180,
   "metadata": {},
   "outputs": [],
   "source": [
    "heading=[\"datapublished\",\"name\",\"description\",\"provider\",\"url\"]\n",
    "with open('bingNews.csv', 'w') as csvFile:\n",
    "    writer = csv.writer(csvFile)\n",
    "    writer.writerow(heading)"
   ]
  },
  {
   "cell_type": "code",
   "execution_count": 265,
   "metadata": {},
   "outputs": [],
   "source": [
    "def getBingNewsData(searchterm,offset):\n",
    "    subscription_key = \"f8209f3535fc4ebea5ed1becfe41f28e\"\n",
    "    search_url = \"https://api.cognitive.microsoft.com/bing/v7.0/news/search?count=100&mkt=en-IN&offset=\"+str(offset)\n",
    "    \n",
    "    headers = {\"Ocp-Apim-Subscription-Key\" : subscription_key}\n",
    "    params  = {\"q\": searchterm, \"textDecorations\": True, \"textFormat\": \"HTML\"}\n",
    "    response = requests.get(search_url, headers=headers, params=params)\n",
    "    \n",
    "    response.raise_for_status()\n",
    "    search_results = response.json()\n",
    "    print(search_results['totalEstimatedMatches'])\n",
    "    CSV_data = []\n",
    "    with open('bingNews.csv', 'a') as csvFile:\n",
    "        writer = csv.writer(csvFile)\n",
    "        for article in search_results[\"value\"]:\n",
    "            array = [article[\"datePublished\"],article[\"name\"],article[\"description\"],article[\"provider\"],article[\"url\"]]\n",
    "            #print(array)\n",
    "            writer.writerow(array)"
   ]
  },
  {
   "cell_type": "code",
   "execution_count": 270,
   "metadata": {},
   "outputs": [
    {
     "name": "stdout",
     "output_type": "stream",
     "text": [
      "80\n",
      "29\n",
      "80\n",
      "30\n",
      "80\n",
      "31\n"
     ]
    },
    {
     "ename": "HTTPError",
     "evalue": "429 Client Error: Too Many Requests for url: https://api.cognitive.microsoft.com/bing/v7.0/news/search?count=100&mkt=en-IN&offset=32&q=protests+in+india%2Bpolitics%2Belections&textDecorations=True&textFormat=HTML",
     "output_type": "error",
     "traceback": [
      "\u001b[0;31m---------------------------------------------------------------------------\u001b[0m",
      "\u001b[0;31mHTTPError\u001b[0m                                 Traceback (most recent call last)",
      "\u001b[0;32m<ipython-input-270-d95121d9df93>\u001b[0m in \u001b[0;36m<module>\u001b[0;34m()\u001b[0m\n\u001b[1;32m      1\u001b[0m \u001b[0;32mfor\u001b[0m \u001b[0mi\u001b[0m \u001b[0;32min\u001b[0m \u001b[0mrange\u001b[0m\u001b[0;34m(\u001b[0m\u001b[0;36m29\u001b[0m\u001b[0;34m,\u001b[0m\u001b[0;36m50\u001b[0m\u001b[0;34m)\u001b[0m\u001b[0;34m:\u001b[0m\u001b[0;34m\u001b[0m\u001b[0m\n\u001b[0;32m----> 2\u001b[0;31m     \u001b[0mgetBingNewsData\u001b[0m\u001b[0;34m(\u001b[0m\u001b[0;34m\"protests in india+politics+elections\"\u001b[0m\u001b[0;34m,\u001b[0m\u001b[0mi\u001b[0m\u001b[0;34m)\u001b[0m\u001b[0;34m\u001b[0m\u001b[0m\n\u001b[0m\u001b[1;32m      3\u001b[0m     \u001b[0mprint\u001b[0m\u001b[0;34m(\u001b[0m\u001b[0mi\u001b[0m\u001b[0;34m)\u001b[0m\u001b[0;34m\u001b[0m\u001b[0m\n",
      "\u001b[0;32m<ipython-input-265-6ccb56ced911>\u001b[0m in \u001b[0;36mgetBingNewsData\u001b[0;34m(searchterm, offset)\u001b[0m\n\u001b[1;32m      7\u001b[0m     \u001b[0mresponse\u001b[0m \u001b[0;34m=\u001b[0m \u001b[0mrequests\u001b[0m\u001b[0;34m.\u001b[0m\u001b[0mget\u001b[0m\u001b[0;34m(\u001b[0m\u001b[0msearch_url\u001b[0m\u001b[0;34m,\u001b[0m \u001b[0mheaders\u001b[0m\u001b[0;34m=\u001b[0m\u001b[0mheaders\u001b[0m\u001b[0;34m,\u001b[0m \u001b[0mparams\u001b[0m\u001b[0;34m=\u001b[0m\u001b[0mparams\u001b[0m\u001b[0;34m)\u001b[0m\u001b[0;34m\u001b[0m\u001b[0m\n\u001b[1;32m      8\u001b[0m \u001b[0;34m\u001b[0m\u001b[0m\n\u001b[0;32m----> 9\u001b[0;31m     \u001b[0mresponse\u001b[0m\u001b[0;34m.\u001b[0m\u001b[0mraise_for_status\u001b[0m\u001b[0;34m(\u001b[0m\u001b[0;34m)\u001b[0m\u001b[0;34m\u001b[0m\u001b[0m\n\u001b[0m\u001b[1;32m     10\u001b[0m     \u001b[0msearch_results\u001b[0m \u001b[0;34m=\u001b[0m \u001b[0mresponse\u001b[0m\u001b[0;34m.\u001b[0m\u001b[0mjson\u001b[0m\u001b[0;34m(\u001b[0m\u001b[0;34m)\u001b[0m\u001b[0;34m\u001b[0m\u001b[0m\n\u001b[1;32m     11\u001b[0m     \u001b[0mprint\u001b[0m\u001b[0;34m(\u001b[0m\u001b[0msearch_results\u001b[0m\u001b[0;34m[\u001b[0m\u001b[0;34m'totalEstimatedMatches'\u001b[0m\u001b[0;34m]\u001b[0m\u001b[0;34m)\u001b[0m\u001b[0;34m\u001b[0m\u001b[0m\n",
      "\u001b[0;32m~/anaconda/lib/python3.5/site-packages/requests/models.py\u001b[0m in \u001b[0;36mraise_for_status\u001b[0;34m(self)\u001b[0m\n\u001b[1;32m    937\u001b[0m \u001b[0;34m\u001b[0m\u001b[0m\n\u001b[1;32m    938\u001b[0m         \u001b[0;32mif\u001b[0m \u001b[0mhttp_error_msg\u001b[0m\u001b[0;34m:\u001b[0m\u001b[0;34m\u001b[0m\u001b[0m\n\u001b[0;32m--> 939\u001b[0;31m             \u001b[0;32mraise\u001b[0m \u001b[0mHTTPError\u001b[0m\u001b[0;34m(\u001b[0m\u001b[0mhttp_error_msg\u001b[0m\u001b[0;34m,\u001b[0m \u001b[0mresponse\u001b[0m\u001b[0;34m=\u001b[0m\u001b[0mself\u001b[0m\u001b[0;34m)\u001b[0m\u001b[0;34m\u001b[0m\u001b[0m\n\u001b[0m\u001b[1;32m    940\u001b[0m \u001b[0;34m\u001b[0m\u001b[0m\n\u001b[1;32m    941\u001b[0m     \u001b[0;32mdef\u001b[0m \u001b[0mclose\u001b[0m\u001b[0;34m(\u001b[0m\u001b[0mself\u001b[0m\u001b[0;34m)\u001b[0m\u001b[0;34m:\u001b[0m\u001b[0;34m\u001b[0m\u001b[0m\n",
      "\u001b[0;31mHTTPError\u001b[0m: 429 Client Error: Too Many Requests for url: https://api.cognitive.microsoft.com/bing/v7.0/news/search?count=100&mkt=en-IN&offset=32&q=protests+in+india%2Bpolitics%2Belections&textDecorations=True&textFormat=HTML"
     ]
    }
   ],
   "source": [
    "for i in range(29,50):\n",
    "    getBingNewsData(\"protests in india+politics+elections\",i)\n",
    "    print(i)\n"
   ]
  },
  {
   "cell_type": "code",
   "execution_count": 262,
   "metadata": {},
   "outputs": [
    {
     "name": "stdout",
     "output_type": "stream",
     "text": [
      "44\n",
      "['2019-03-24T06:45:00.0000000Z', 'Congress in Kerala wants Rahul Gandhi to contest LS polls from Wayanad', 'The Congress in Kerala has suggested that party president Rahul Gandhi should contest the Lok Sabha <b>election</b> from the Wayanad Lok Sabha ... should contest from any of the Lok Sabha seats in South <b>India</b> and &quot;we have requested Gandhi to contest from Wayanad ...', [{'name': 'Economic Times', '_type': 'Organization'}], 'https://economictimes.indiatimes.com/news/politics-and-nation/congress-in-kerala-wants-rahul-gandhi-to-contest-ls-polls-from-wayanad/articleshow/68543602.cms']\n",
      "['2019-03-24T06:54:00.0000000Z', 'Sushma Swaraj Seeks Report On Alleged Abduction Of 2 Hindu Girls In Pak', 'It said the Hindu community in the area staged <b>protests</b>, demanding action against perpetrators of the alleged crime. <b>India</b> has been raising the issue of plight of minorities, particularly the Hindu community in Pakistan. Get the latest <b>election</b> news ...', [{'name': 'pioneernews.in', '_type': 'Organization'}], 'http://www.pioneernews.in/sushma-swaraj-seeks-report-on-alleged-abduction-of-2-hindu-girls-in-pak']\n",
      "['2019-03-24T07:07:00.0000000Z', 'Shiv Sena announces 21 candidates, drops MP who slapped Air <b>India</b> employee', 'THE SHIV Sena on Friday announced 21 candidates for the Lok Sabha <b>elections</b>, re-nominating 17 sitting MPs and dropping Osmanabad MP Ravindra Gaikwad, who had assaulted an Air <b>India</b> staffer in 2017. However, the candidates for Palghar and Satara seats are ...', [{'name': 'The Indian Express', '_type': 'Organization'}], 'https://indianexpress.com/elections/shiv-sena-announces-21-candidates-drops-mp-who-slapped-air-india-employee-5638981/']\n",
      "['2019-03-24T00:04:00.0000000Z', 'Hundreds Of Thousands <b>Protest</b> In London To Demand New Brexit Vote', 'Hundreds of thousands of protesters swamped London on Saturday demanding another referendum on EU membership amid <b>political</b> paralysis over ... of the 543 parliamentary seats for the 2019 <b>Indian</b> general <b>elections</b>.', [{'name': 'pioneernews.in', '_type': 'Organization'}], 'http://www.pioneernews.in/hundreds-of-thousands-protest-in-london-to-demand-new-brexit-vote']\n",
      "['2019-03-24T06:53:00.0000000Z', '2019 Lok Sabha <b>elections</b>: Why retaining Amethi will be crucial for Rahul Gandhi', 'The Amethi constituency in Uttar Pradesh will be under the spotlight during the upcoming Lok Sabha <b>Elections</b>, as a high-voltage electoral ... The state accounts for 16 per cent of <b>India</b>’s population and holds key to the formation of the government ...', [{'name': 'The Indian Express', '_type': 'Organization'}], 'https://indianexpress.com/elections/2019-lok-sabha-elections-amethi-rahul-gandhi-smriti-irani-5639405/']\n",
      "['2019-03-24T03:36:00.0000000Z', 'In the madness of <b>politics</b>, netas talk fast and loose', 'and complained to the <b>Election</b> Commission of <b>India</b>. “Many politicians and persons with certain <b>political</b> affiliations use terminologies related to mental instability and such remarks are heard more during <b>election</b> campaigns. This is widely circulated on ...', [{'name': 'The New Indian Express', '_type': 'Organization'}], 'http://www.newindianexpress.com/states/karnataka/2019/mar/24/in-the-madness-of-politics-netas-talk-fast-and-loose-1954989.html']\n",
      "['2019-03-24T06:59:00.0000000Z', 'Odisha: Internal feud increase among cadres in Congress party as it announces candidates for upcoming <b>elections</b>', 'Similarly, in Jharsuguda some Congress workers locked the party office to <b>protest</b> the issuing of a ticket to former ... dearly as the Lok Sabha and assembly <b>elections</b> inch closer in the state. The party in addition to this has also been facing an exodus ...', [{'name': 'OpIndia.com', '_type': 'Organization'}], 'https://www.opindia.com/2019/03/odisha-internal-feud-increase-among-cadres-in-congress-party-as-it-announces-candidates-for-upcoming-elections/']\n",
      "['2019-03-24T01:52:00.0000000Z', 'Lok Sabha <b>elections</b> 2019: Will split in Jat vote hurt the Congress in Haryana?', 'At the time of the 2004 <b>elections</b>, an <b>Indian</b> National Lok Dal ... Large-scale violence during the Jat reservation <b>protests</b> in February 2016 might have revived fears of the return of Jat domination in the state’s <b>politics</b>. A split in the INLD — Ajay ...', [{'name': 'Hindustan Times', '_type': 'Organization'}], 'https://www.hindustantimes.com/lok-sabha-elections/lok-sabha-elections-2019-will-split-in-jat-vote-hurt-the-congress-in-haryana/story-XLiq2fjYvIF33FLtyhhoMO.html']\n",
      "['2019-03-24T06:49:00.0000000Z', 'The <b>Election</b> Fix: How will voters pick between Ayushman Bharat and a Right to Healthcare?', 'Welcome to The <b>Election</b> Fix. On Sundays, we take a closer look at one theme that will play a significant role <b>in India</b>’s Lok Sabha ... after years of neglect, <b>political</b> parties are looking ...', [{'name': 'Scroll', '_type': 'Organization'}], 'https://scroll.in/article/917623/the-election-fix-how-will-voters-pick-between-ayushman-bharat-and-a-right-to-healthcare']\n",
      "['2019-03-24T05:22:00.0000000Z', 'Impressed &amp; inspired by PM Modi, so joined <b>politics</b>, says Ravindra Jadeja’s wife Rivaba', 'Rivaba, 29, met the prime minister in Delhi in November last year before her husband was to leave for <b>India</b> ... the <b>political</b> situation. He approached them and told them that he is still a very small person but can help them get an <b>election</b> ticket ...', [{'name': 'https//theprint.in', '_type': 'Organization'}], 'https://theprint.in/politics/impressed-inspired-by-pm-modi-so-joined-politics-says-ravindra-jadejas-wife-rivaba/208296/']\n",
      "['2019-03-24T06:45:00.0000000Z', 'MNS not to allow screening of Modi biopic in Maharashtra, claims it violates code of conduct', 'Khopkar said that the main grouse against the movie is that the BJP government is using the movie to brow beat the code of conduct during <b>elections</b> by having the movie being screened. “They are deliberately trying to show that some famous personalities ...', [{'name': 'Economic Times', '_type': 'Organization'}], 'https://economictimes.indiatimes.com/news/politics-and-nation/mns-not-to-allow-screening-of-modi-biopic-in-maharashtra-claims-it-violates-code-of-conduct/articleshow/68539522.cms']\n",
      "['2019-03-24T07:10:00.0000000Z', 'LS <b>elections</b> 2019: People all set to welcome Smriti Irani in Amethi', 'People in Amethi have started preparation to welcome Union minister of Textiles Smriti Irani. BJP karyakartas begin making notes on Smriti Irani’s addresses and her stay in Amethi. Alok, Dhaba ...', [{'name': 'timesofindia.indiatimes.com', '_type': 'Organization'}], 'https://timesofindia.indiatimes.com/videos/city/lucknow/ls-elections-2019-people-all-set-to-welcome-smriti-irani-in-amethi/videoshow/68545643.cms']\n",
      "['2019-03-24T07:00:00.0000000Z', 'Lok Sabha <b>elections</b> 2019: What Gandhinagar ticket holds for Amit Shah', 'He ran Advani’s poll campaign there for most of the six <b>elections</b> he contested and won between 1991 ... at his zenith an exaggerated strongman image to evoke and claim the <b>political</b> inheritance of Sardar Patel. His writ then ran with as much force ...', [{'name': 'Hindustan Times', '_type': 'Organization'}], 'https://www.hindustantimes.com/lok-sabha-elections/lok-sabha-elections-2019-what-gandhinagar-ticket-holds-for-amit-shah/story-7PArGb5P47gQaxd9SWWv3H.html']\n",
      "['2019-03-24T06:18:00.0000000Z', 'More than five years after riots, Muslims in Muzaffarnagar debate whether to vote for Jat candidate', '<b>Political</b> observers ... he would vote for him in a bigger <b>election</b>. When his companions reminded him that the upcoming <b>elections</b> are the biggest <b>elections</b> <b>in India</b>, he said: “If that is so ...', [{'name': 'Scroll', '_type': 'Organization'}], 'https://scroll.in/article/917487/seven-years-after-riots-muslims-in-muzzafarnagar-debate-whether-to-vote-for-jat-candidate']\n",
      "['2019-03-24T02:20:00.0000000Z', 'Need for guidelines for <b>political</b> films during <b>elections</b> highlighted', 'Apart from issuing the notices, the RO also submitted a report that day to the Chief Electoral Officer of Delhi suggesting that the <b>Election</b> Commission of <b>India</b> (ECI) could consider formulating guidelines for <b>political</b> films during <b>elections</b>. The report ...', [{'name': 'thehindu.com', '_type': 'Organization'}], 'https://www.thehindu.com/news/cities/Delhi/need-for-guidelines-for-political-films-during-elections-highlighted/article26622854.ece']\n",
      "['2019-03-24T01:31:00.0000000Z', 'Lok Sabha <b>Election</b> 2019: <b>Election</b> Commission tightens noose around erring candidates', 'In its bid to limit <b>election</b> spending, the <b>Election</b> Commission of <b>India</b> (ECI) has imposed strict limits on the expenditure incurred by candidates (not <b>political</b> parties) on their <b>election</b> campaign. With experts anticipating this year&#39;s general <b>elections</b> to ...', [{'name': 'Business Today', '_type': 'Organization'}], 'https://www.businesstoday.in/current/economy-politics/lok-sabha-elections-2019-election-commision-of-india-election-expenditure-lok-sabha-election-2019-election-commission-tightens-noose-around-erring-candidates/story/330125.html']\n",
      "['2019-03-24T07:05:00.0000000Z', 'Lok Sabha <b>elections</b>: With BJP standing down, it’s Sumalatha vs Nikhil Kumaraswamy on Mandya seat', 'Congress: Check if biopic violates poll code The Karnataka Congress on Saturday asked the <b>Election</b> Commission ... urging him to allow <b>political</b> parties to preview the biopic and raise objections ...', [{'name': 'timesofindia.indiatimes.com', '_type': 'Organization'}], 'https://timesofindia.indiatimes.com/elections/lok-sabha-elections-2019/karnataka/news/lok-sabha-elections-with-bjp-standing-down-its-sumalatha-vs-nikhil-kumaraswamy-on-mandya-seat/articleshow/68545628.cms']\n",
      "['2019-03-24T07:07:00.0000000Z', 'Priyanka Gandhi’s influence ‘bound to grow’ in party in long term, says Shashi Tharoor', '“In 2011 <b>elections</b>, that was not much an issue because the CPI(M) and the Congress were fighting each other in Bengal also. But today, each state is reacting to its own <b>political</b> reality. And the <b>political</b> reality in Bengal is very much different from ...', [{'name': 'The Financial Express', '_type': 'Organization'}], 'https://www.financialexpress.com/india-news/lok-sabha-elections-2019-priyanka-gandhis-influence-bound-to-grow-in-party-in-long-term-says-shashi-tharoor/1525498/']\n",
      "['2019-03-24T05:40:00.0000000Z', 'Thailand <b>elections</b>: Voters head to poll stations after 5 years of military rule', 'Meanwhile, Shinawatra&#39;s Pheu Thai Party that draws support from the rural poor, has won every <b>election</b> since 2001 ... wards and 150 party list seats – being contested by various <b>political</b> parties. As many as 93,200 polling stations have been set up ...', [{'name': 'Asian News International', '_type': 'Organization'}], 'https://www.aninews.in/news/world/asia/thailand-elections-voters-head-to-poll-stations-after-5-years-of-military-rule20190324105623/']\n",
      "['2019-03-24T06:46:00.0000000Z', '87,000 WhatsApp groups to target voters with <b>political</b> messages', 'The first phase of the Lok Sabha <b>elections</b> begins from ... 87,000 groups to target millions with <b>political</b> messaging. According to WhatsApp, over 20 crore Monthly Active Users (MAUs) are using its platform <b>in India</b>, but the fact is that these numbers ...', [{'name': 'The Tribune', '_type': 'Organization'}], 'https://www.tribuneindia.com/news/nation/87-000-whatsapp-groups-to-target-voters-with-political-messages/747692.html']\n",
      "['2019-03-24T06:56:00.0000000Z', 'Thais vote in first general <b>election</b> since 2014 coup', 'Thailand is a constitutional monarchy and the palace is nominally above the <b>political</b> fray ... it from a decade-long treadmill of <b>protests</b> and coups. Politicians across the spectrum fear a stalemate under <b>election</b> rules, written by the junta, which ...', [{'name': 'orissapost.com', '_type': 'Organization'}], 'http://www.orissapost.com/thais-vote-in-first-general-election-since-2014-coup/']\n",
      "['2019-03-24T06:58:00.0000000Z', '&#39;<b>Election</b> tourism&#39; is here as foreigners get to experience <b>India</b>&#39;s biggest festival of democracy', 'The tourists who had visited the state in 2014 mainly comprised of students, researchers, media professionals, <b>political</b> analysts and those who wanted to understand how <b>elections</b> <b>in India</b> are conducted on such a massive scale, said Manish Sharma ...', [{'name': 'The Week', '_type': 'Organization'}], 'https://www.theweek.in/wire-updates/business/2019/03/24/eln11-poll-tourism.html']\n",
      "['2019-03-24T06:59:00.0000000Z', '<b>Elections</b> 2019: The Great (Dirty) Game of BJP Alliances', 'While the splintering alliance in North-East may not look good for BJP but history shows that many of the local parties in the region tend to side with the government after <b>elections</b> ... This is unheard of <b>in Indian</b> electoral <b>politics</b> and a sure indicator ...', [{'name': 'NewsClick', '_type': 'Organization'}], 'https://www.newsclick.in/elections-2019-great-dirty-game-of-bjp-alliances']\n",
      "['2019-03-24T06:55:00.0000000Z', 'Thailand’s coup leader and “democratic front” face-off in long-awaited <b>election</b>', 'Pro-Thaksin parties have won every <b>election</b> since 2001, but the past 15 years have seen crippling street <b>protests</b> that destabilised the government ... that it was a coded reference to the country’s <b>political</b> factions – broadly the middle class and ...', [{'name': 'The Financial Express', '_type': 'Organization'}], 'https://www.financialexpress.com/world-news/thailands-coup-leader-and-democratic-front-face-off-in-long-awaited-election/1525490/']\n",
      "['2019-03-24T07:01:00.0000000Z', '87,000 WhatsApp groups to target voters this <b>election</b>', 'New Delhi: The first phase of voting begins from April 11 and WhatsApp – and not its parent company Facebook – has turned out to be the biggest social media platform for more than 87,000 groups to target millions with <b>political</b> messaging. According to ...', [{'name': 'orissapost.com', '_type': 'Organization'}], 'http://www.orissapost.com/87000-whatsapp-groups-to-target-voters-this-election/']\n",
      "['2019-03-24T06:42:00.0000000Z', 'PM Modi, Amit Shah and Yogi to address rallies in all phases in West Bengal', 'The saffron party is hoping to overcome its deficit in the number of seats from states of North <b>India</b>, where it has reached a saturation point, by winning more seats from states like West Bengal and Odisha, the leader said. Lok Sabha <b>elections</b> will be held ...', [{'name': 'Business Today', '_type': 'Organization'}], 'https://www.businesstoday.in/current/economy-politics/pm-modi-amit-shah-and-yogi-to-address-rallies-in-all-phases-in-west-bengal/story/330401.html']\n",
      "['2019-03-24T06:53:00.0000000Z', 'Lok Sabha <b>Elections</b> 2019: Congress fields Manish Khanduri from Pauri Garhwal in Uttarakhand', 'However, he will not contest the Lok Sabha this year <b>elections</b> citing poor health. Pauri will witness an interesting battle with Manish Khanduri up against Tirath Singh Rawat, the BJP veteran&#39;s <b>political</b> disciple. Both the candidates will try to cash in on ...', [{'name': 'Newsnation', '_type': 'Organization'}], 'https://www.newsnation.in/election/lok-sabha-election-2019/lok-sabha-elections-2019-congress-fields-manish-khanduri-from-pauri-garhwal-uttarakhand-bc-khanduri-article-218046.html']\n",
      "['2019-03-24T07:00:00.0000000Z', '<b>Elections</b> 2019: Taxmen told to step up vigilance to curb illegal flow of currency, liquor', 'The <b>Election</b> Commission in its multi-departmental meeting had underlined the need for greater coordination among different government agencies to keep a tab on expenditure incurred by candidates and <b>political</b> parties. (This story has not been edited by ...', [{'name': 'Business Standard', '_type': 'Organization'}], 'https://www.business-standard.com/article/pti-stories/elections-2019-taxmen-told-to-step-up-vigilance-to-curb-illegal-flow-of-currency-liquor-119032400139_1.html']\n",
      "['2019-03-24T06:47:00.0000000Z', 'Cong won&#39;t get more than 60 seats in LS polls: Piyush Goyal', 'Speaking at an interaction session with FICCI Ladies Organisation regarding Vision <b>India</b> here, Goyal asserted that the BJP would win the upcoming <b>elections</b> with a clear majority. Goyal alleged that Priyanka Gandhi Vadra is plunging into <b>politics</b> just 60 ...', [{'name': 'Asian News International', '_type': 'Organization'}], 'https://www.aninews.in/news/national/politics/cong-wont-get-more-than-60-seats-in-ls-polls-piyush-goyal20190324030652/']\n",
      "['2019-03-23T18:17:00.0000000Z', 'Quality over quantity in <b>politics</b> and government', 'Once again an <b>Indian</b> <b>election</b> is taking place without any clear dividing line ... Cynicism abounds <b>in Indian</b> <b>politics</b>. Politicians cynically put personal careers before principles, abandoning any pretence of ideological commitment. When 15 disgruntled ...', [{'name': 'Yahoo! India News', '_type': 'Organization'}], 'https://in.news.yahoo.com/quality-over-quantity-politics-government-174906252.html']\n",
      "['2019-03-24T06:49:00.0000000Z', 'Lok Sabha <b>elections</b>: SP chief Akhilesh Yadav to contest from Azamgarh', 'Samajwadi Party (SP) chief Akhilesh Yadav will contest the Lok Sabha <b>elections</b> from Azamgarh, Uttar Pradesh. Mulayam Singh Yadav, the father of Akhilesh is the sitting MP from Azamgarh. The party also named Azam Khan as its candidate from Rampur.', [{'name': 'Tehelka', '_type': 'Organization'}], 'http://tehelka.com/lok-sabha-elections-sp-chief-akhilesh-yadav-to-contest-from-azamgarh/']\n",
      "['2019-03-24T06:50:00.0000000Z', 'Normal life affected in Kashmir due to strike by separatists against JKLF ban', 'Normal life was affected in Kashmir Sunday due to a strike called by the Joint Resistance Leadership (JRL), an amalgam of separatist groups, to <b>protest</b> against ... was &quot;undemocratic&quot; and &quot;<b>political</b> vendetta&quot;. &quot;The Government of <b>India</b>&#39;s decision of banning ...', [{'name': 'The Pioneer', '_type': 'Organization'}], 'https://www.dailypioneer.com/2019/top-stories/normal-life-affected-in-kashmir-due-to-strike-by-separatists-against-jklf-ban.html']\n",
      "['2019-03-24T06:17:00.0000000Z', 'No one interested in checking increasing school fees, will vote for NOTA: Ghaziabad parents&#39; associations', 'GHAZIABAD: Two parents&#39; associations here Saturday said their members will not vote for any party in the upcoming Lok Sabha <b>elections</b> to <b>protest</b> against rising school ... Shivani Jain said no <b>political</b> party or state government was serious about their ...', [{'name': 'The New Indian Express', '_type': 'Organization'}], 'http://www.newindianexpress.com/nation/2019/mar/23/no-one-interested-in-checking-increasing-school-fees-will-vote-for-nota-ghaziabad-parents-associa-1954919.html']\n",
      "['2019-03-24T07:06:00.0000000Z', 'A majority of Congress workers favour alliance with AAP in Delhi', '“Majority of the workers have said yes for an alliance for the Lok Sabha <b>elections</b> so that the BJP can be defeated,” the senior Congress functionary said. “The results have been presented to the Congress president who will take a final call on the issue.', [{'name': 'https//theprint.in', '_type': 'Organization'}], 'https://theprint.in/politics/a-majority-of-congress-workers-favour-alliance-with-aap-in-delhi/210667/']\n",
      "['2019-03-24T06:52:00.0000000Z', '<b>Elections</b> 2019: Taxmen told to curb illegal flow of currency, liquor', 'The <b>Election</b> Commission in its multi-departmental meeting had underlined the need for greater coordination among different government agencies to keep a tab on expenditure incurred by candidates and <b>political</b> parties.', [{'name': 'The Asian Age', '_type': 'Organization'}], 'http://www.asianage.com/business/economy/240319/elections-2019-taxmen-told-to-curb-illegal-flow-of-currency-liquor.html']\n",
      "['2019-03-24T02:04:00.0000000Z', 'Gautam Gambhir joins BJP: A list of cricketers who entered <b>politics</b>', 'News that former <b>India</b> opener Gautam Gambhir on Friday joined the ruling Bharatiya Janata Party (BJP) in the buildup to the 2019 Lok Sabha <b>Elections</b> has turned the focus on famous cricketers to enter <b>politics</b>. Gambhir, who was a key member of <b>India</b>’s ...', [{'name': 'Cricket Country', '_type': 'Organization'}], 'https://www.cricketcountry.com/articles/gautam-gambhir-joins-bjp-a-list-of-cricketers-who-entered-politics-817590']\n",
      "['2019-03-24T06:44:00.0000000Z', '<b>Elections</b> 2019: The Men Behind Akhilesh Yadav&#39;s Journey In Samajwadi Party', '<b>Elections</b> ... an enigma in UP <b>politics</b>. Old timers in SP say that Nanda is to Akhilesh what Amar Singh was to Netaji (Mulayam). Nanda represented the young SP chief in Calcutta recently as he joined Mamata Banerjee in her sit-in to <b>protest</b> the CBI action ...', [{'name': 'outlookindia.com', '_type': 'Organization'}], 'https://www.outlookindia.com/magazine/story/indias-chanakyas-who-are-akhilesh-yadavs-political-advisors/301348']\n",
      "['2019-03-24T06:50:00.0000000Z', 'All Opposition parties in Punjab A, B, C, D teams of Congress: Sukhbir Singh Badal', 'The Shiromani Akali Dal (SAD) is &quot;emerging again&quot; in Punjab and all <b>political</b> parties have joined hands only ... the sole motive of &quot;defeating Prime Minister Narendra Modi&quot;. &quot;This <b>election</b> is very special as it is for choosing the prime minister of our ...', [{'name': 'Yahoo! India News', '_type': 'Organization'}], 'https://in.news.yahoo.com/opposition-parties-punjab-b-c-025333381.html']\n",
      "['2019-03-24T06:44:00.0000000Z', 'Lok Sabha Polls: NDA Releases List Of Candidates For 39 Out Of 40 Seats In Bihar', 'According to media reports, Sinha is likely to join the Congress and seek re-<b>election</b> on a ticket of the grand old party. While Union minister Giriraj Singh, whose Nawada seat has gone to the LJP, has been shifted to Begusarai, his colleagues in the ...', [{'name': 'outlookindia.com', '_type': 'Organization'}], 'https://www.outlookindia.com/website/story/india-news-lok-sabha-polls-nda-releases-list-of-candidates-for-39-out-of-40-seat-in-bihar/327459']\n",
      "['2019-03-24T06:49:00.0000000Z', 'Working class employees left in the lurch at IL&amp;FS resolution (IANS EXCLUSIVE)', 'Moreover, in an <b>election</b> ... out for <b>political</b> support on the matter and it will be difficult for any <b>political</b> party to turn a blind eye to millions of middle class voters affected by the IL&amp;FS crisis. Some of the list of petitioners include: <b>Indian</b> ...', [{'name': 'Net India 123', '_type': 'Organization'}], 'https://www.netindia123.com/articles/showdetails.asp?id=3522033&n_date=20190324&cat=Business']\n",
      "['2019-03-23T15:54:00.0000000Z', 'Hundreds Of Youth To Celebrate The Spirit Of Service In City Slums', 'While everyone is talking about the significant role that will be played by youth, and the over 2 crore first time voters in the <b>Indian</b> <b>elections</b>, one also often decries the supposed lack of <b>political</b> engagement of middle class youth in the cities.', [{'name': 'Odisha Diary', '_type': 'Organization'}], 'http://orissadiary.com/hundreds-youth-celebrate-spirit-service-city-slums/']\n",
      "['2019-03-23T16:44:00.0000000Z', 'Ending nationalist populism is a must to eliminate racial discrimination <b>in India</b>', 'In the <b>Indian</b> context, this has become contested with the recent citizenship register in Assam, which puts the future of the Muslim minority groups at stake. With no clear roadmap ahead, the coming <b>elections</b> ... it be through <b>protests</b>, writings or just ...', [{'name': 'The Milli Gazette', '_type': 'Organization'}], 'http://www.milligazette.com/news/16614-ending-nationalist-populism-is-a-must-to-eliminate-racial-discrimination-in-india']\n",
      "['2019-03-24T06:55:00.0000000Z', 'The Latest: Protesters in London demand halt to Brexit', 'The <b>protest</b> drew people from across Britain who are determined ... Britain opted to leave in a 2016 referendum, but the process has been stalled by <b>political</b> discord. Tom Watson, the deputy leader of the opposition Labour Party, London Mayor Sadiq Khan ...', [{'name': 'Houston Chronicle', '_type': 'Organization'}], 'https://www.chron.com/news/article/The-Latest-Anti-Brexit-protesters-gather-for-13710954.php']\n",
      "['2019-03-24T07:10:00.0000000Z', 'William Wallace: Good government requires <b>political</b> leadership – and neither Theresa May or Jeremy Corbyn are capable of it', '... of seats on 35 per cent of the votes cast – that’s the percentage on which Tony Blair won the 2005 <b>election</b>. Good government requires <b>political</b> leadership, committed to a constant dialogue with Parliament and public. Neither Mrs May’s stubborn ...', [{'name': 'The Yorkshire Post', '_type': 'Organization'}], 'https://www.yorkshirepost.co.uk/news/opinion/william-wallace-good-government-requires-political-leadership-and-neither-theresa-may-or-jeremy-corbyn-are-capable-of-it-1-9665176']\n"
     ]
    }
   ],
   "source": [
    " getBingNewsData(\"protests in india+politics+elections\",0)"
   ]
  },
  {
   "cell_type": "code",
   "execution_count": 192,
   "metadata": {},
   "outputs": [],
   "source": []
  },
  {
   "cell_type": "code",
   "execution_count": 302,
   "metadata": {},
   "outputs": [],
   "source": [
    "url = \"https://www.thehindu.com/news/australia-sri-lanka-day-night-cricket-test-at-the-gabba-australian-open-2019-and-other-news-in-pictures/article26076554.ece#!\"\n",
    "article = Article(url)\n",
    "article.download()"
   ]
  },
  {
   "cell_type": "code",
   "execution_count": 303,
   "metadata": {},
   "outputs": [
    {
     "ename": "ArticleException",
     "evalue": "Article `download()` failed with 403 Client Error: Forbidden for url: https://www.thehindu.com/news/australia-sri-lanka-day-night-cricket-test-at-the-gabba-australian-open-2019-and-other-news-in-pictures/article26076554.ece#! on URL https://www.thehindu.com/news/australia-sri-lanka-day-night-cricket-test-at-the-gabba-australian-open-2019-and-other-news-in-pictures/article26076554.ece#!",
     "output_type": "error",
     "traceback": [
      "\u001b[0;31m---------------------------------------------------------------------------\u001b[0m",
      "\u001b[0;31mArticleException\u001b[0m                          Traceback (most recent call last)",
      "\u001b[0;32m<ipython-input-303-80fbcfc65462>\u001b[0m in \u001b[0;36m<module>\u001b[0;34m()\u001b[0m\n\u001b[0;32m----> 1\u001b[0;31m \u001b[0marticle\u001b[0m\u001b[0;34m.\u001b[0m\u001b[0mparse\u001b[0m\u001b[0;34m(\u001b[0m\u001b[0;34m)\u001b[0m\u001b[0;34m\u001b[0m\u001b[0m\n\u001b[0m\u001b[1;32m      2\u001b[0m \u001b[0marticle\u001b[0m\u001b[0;34m.\u001b[0m\u001b[0mtext\u001b[0m\u001b[0;34m\u001b[0m\u001b[0m\n\u001b[1;32m      3\u001b[0m \u001b[0marticle\u001b[0m\u001b[0;34m.\u001b[0m\u001b[0mpublish_date\u001b[0m\u001b[0;34m\u001b[0m\u001b[0m\n\u001b[1;32m      4\u001b[0m \u001b[0marticle\u001b[0m\u001b[0;34m.\u001b[0m\u001b[0mnlp\u001b[0m\u001b[0;34m(\u001b[0m\u001b[0;34m)\u001b[0m\u001b[0;34m\u001b[0m\u001b[0m\n\u001b[1;32m      5\u001b[0m \u001b[0;34m\u001b[0m\u001b[0m\n",
      "\u001b[0;32m~/anaconda/lib/python3.5/site-packages/newspaper/article.py\u001b[0m in \u001b[0;36mparse\u001b[0;34m(self)\u001b[0m\n\u001b[1;32m    189\u001b[0m \u001b[0;34m\u001b[0m\u001b[0m\n\u001b[1;32m    190\u001b[0m     \u001b[0;32mdef\u001b[0m \u001b[0mparse\u001b[0m\u001b[0;34m(\u001b[0m\u001b[0mself\u001b[0m\u001b[0;34m)\u001b[0m\u001b[0;34m:\u001b[0m\u001b[0;34m\u001b[0m\u001b[0m\n\u001b[0;32m--> 191\u001b[0;31m         \u001b[0mself\u001b[0m\u001b[0;34m.\u001b[0m\u001b[0mthrow_if_not_downloaded_verbose\u001b[0m\u001b[0;34m(\u001b[0m\u001b[0;34m)\u001b[0m\u001b[0;34m\u001b[0m\u001b[0m\n\u001b[0m\u001b[1;32m    192\u001b[0m \u001b[0;34m\u001b[0m\u001b[0m\n\u001b[1;32m    193\u001b[0m         \u001b[0mself\u001b[0m\u001b[0;34m.\u001b[0m\u001b[0mdoc\u001b[0m \u001b[0;34m=\u001b[0m \u001b[0mself\u001b[0m\u001b[0;34m.\u001b[0m\u001b[0mconfig\u001b[0m\u001b[0;34m.\u001b[0m\u001b[0mget_parser\u001b[0m\u001b[0;34m(\u001b[0m\u001b[0;34m)\u001b[0m\u001b[0;34m.\u001b[0m\u001b[0mfromstring\u001b[0m\u001b[0;34m(\u001b[0m\u001b[0mself\u001b[0m\u001b[0;34m.\u001b[0m\u001b[0mhtml\u001b[0m\u001b[0;34m)\u001b[0m\u001b[0;34m\u001b[0m\u001b[0m\n",
      "\u001b[0;32m~/anaconda/lib/python3.5/site-packages/newspaper/article.py\u001b[0m in \u001b[0;36mthrow_if_not_downloaded_verbose\u001b[0;34m(self)\u001b[0m\n\u001b[1;32m    530\u001b[0m         \u001b[0;32melif\u001b[0m \u001b[0mself\u001b[0m\u001b[0;34m.\u001b[0m\u001b[0mdownload_state\u001b[0m \u001b[0;34m==\u001b[0m \u001b[0mArticleDownloadState\u001b[0m\u001b[0;34m.\u001b[0m\u001b[0mFAILED_RESPONSE\u001b[0m\u001b[0;34m:\u001b[0m\u001b[0;34m\u001b[0m\u001b[0m\n\u001b[1;32m    531\u001b[0m             raise ArticleException('Article `download()` failed with %s on URL %s' %\n\u001b[0;32m--> 532\u001b[0;31m                   (self.download_exception_msg, self.url))\n\u001b[0m\u001b[1;32m    533\u001b[0m \u001b[0;34m\u001b[0m\u001b[0m\n\u001b[1;32m    534\u001b[0m     \u001b[0;32mdef\u001b[0m \u001b[0mthrow_if_not_parsed_verbose\u001b[0m\u001b[0;34m(\u001b[0m\u001b[0mself\u001b[0m\u001b[0;34m)\u001b[0m\u001b[0;34m:\u001b[0m\u001b[0;34m\u001b[0m\u001b[0m\n",
      "\u001b[0;31mArticleException\u001b[0m: Article `download()` failed with 403 Client Error: Forbidden for url: https://www.thehindu.com/news/australia-sri-lanka-day-night-cricket-test-at-the-gabba-australian-open-2019-and-other-news-in-pictures/article26076554.ece#! on URL https://www.thehindu.com/news/australia-sri-lanka-day-night-cricket-test-at-the-gabba-australian-open-2019-and-other-news-in-pictures/article26076554.ece#!"
     ]
    }
   ],
   "source": [
    "article.parse()\n",
    "article.text\n",
    "article.publish_date\n",
    "article.nlp()\n",
    "\n",
    "article.summary"
   ]
  },
  {
   "cell_type": "code",
   "execution_count": 304,
   "metadata": {},
   "outputs": [
    {
     "data": {
      "text/plain": [
       "[]"
      ]
     },
     "execution_count": 304,
     "metadata": {},
     "output_type": "execute_result"
    }
   ],
   "source": [
    "article.keywords"
   ]
  },
  {
   "cell_type": "code",
   "execution_count": 282,
   "metadata": {},
   "outputs": [
    {
     "data": {
      "text/plain": [
       "['Thomas Blom Hansen']"
      ]
     },
     "execution_count": 282,
     "metadata": {},
     "output_type": "execute_result"
    }
   ],
   "source": [
    "article.authors"
   ]
  },
  {
   "cell_type": "code",
   "execution_count": 311,
   "metadata": {},
   "outputs": [],
   "source": [
    "def extractandParseData(df):\n",
    "    for index, row in df.iterrows():\n",
    "        article = Article(row['url'])\n",
    "        try:\n",
    "            article.download()\n",
    "            article.parse()\n",
    "            #article.text\n",
    "            article.nlp()\n",
    "        except:\n",
    "            continue\n",
    "        #article.publish_date.date().isoformat()\n",
    "        #article.summary\n",
    "        #article.keywords\n",
    "        date_pub = dateutil.parser.parse(row['datapublished'])\n",
    "        with open('bingNewsParsed.csv', 'a') as csvFile:\n",
    "            writer = csv.writer(csvFile)\n",
    "            array = [date_pub.date().isoformat(),row['name'],row['url'], article.text,article.summary,article.keywords]\n",
    "            #print(array)\n",
    "            writer.writerow(array)"
   ]
  },
  {
   "cell_type": "code",
   "execution_count": 312,
   "metadata": {},
   "outputs": [
    {
     "name": "stderr",
     "output_type": "stream",
     "text": [
      "/Users/dhayanidhigunasekaran/anaconda/lib/python3.5/site-packages/dateutil/parser/_parser.py:1204: UnknownTimezoneWarning: tzname IST identified but not understood.  Pass `tzinfos` argument in order to correctly return a timezone-aware datetime.  In a future version, this will raise an exception.\n",
      "  category=UnknownTimezoneWarning)\n"
     ]
    }
   ],
   "source": [
    "df = pandas.read_csv('bingNews1.csv')\n",
    "#print(df)\n",
    "heading=[\"DatePublished\",\"Name\",\"Url\",\"Text\",\"Summary\",\"Keywords\"]\n",
    "with open('bingNewsParsed.csv', 'w') as csvFile:\n",
    "    writer = csv.writer(csvFile)\n",
    "    writer.writerow(heading)\n",
    "    \n",
    "extractandParseData(df)"
   ]
  }
 ],
 "metadata": {
  "kernelspec": {
   "display_name": "Python 3",
   "language": "python",
   "name": "python3"
  },
  "language_info": {
   "codemirror_mode": {
    "name": "ipython",
    "version": 3
   },
   "file_extension": ".py",
   "mimetype": "text/x-python",
   "name": "python",
   "nbconvert_exporter": "python",
   "pygments_lexer": "ipython3",
   "version": "3.7.3"
  }
 },
 "nbformat": 4,
 "nbformat_minor": 2
}
