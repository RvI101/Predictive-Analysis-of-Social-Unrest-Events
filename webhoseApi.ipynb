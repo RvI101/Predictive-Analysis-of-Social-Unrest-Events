{
 "cells": [
  {
   "cell_type": "code",
   "execution_count": 7,
   "metadata": {},
   "outputs": [],
   "source": [
    "import requests\n",
    "from IPython.display import HTML"
   ]
  },
  {
   "cell_type": "code",
   "execution_count": 8,
   "metadata": {},
   "outputs": [],
   "source": [
    "subscription_key = \"cfb6b949-e231-440b-88c8-73acafd816c3\"\n",
    "search_term = \"protests in india\"\n",
    "search_url = \"https://webhose.io/filterWebContent?\""
   ]
  },
  {
   "cell_type": "code",
   "execution_count": 9,
   "metadata": {},
   "outputs": [],
   "source": [
    "params  = {\"q\": search_term,\"token\":subscription_key ,\"textDecorations\": True, \"textFormat\": \"HTML\"}\n",
    "response = requests.get(search_url, params=params)"
   ]
  },
  {
   "cell_type": "code",
   "execution_count": 10,
   "metadata": {},
   "outputs": [],
   "source": [
    "response.raise_for_status()\n",
    "search_results = response.json()"
   ]
  },
  {
   "cell_type": "code",
   "execution_count": 13,
   "metadata": {},
   "outputs": [
    {
     "name": "stdout",
     "output_type": "stream",
     "text": [
      "{'next': '/filterWebContent?token=cfb6b949-e231-440b-88c8-73acafd816c3&format=html&ts=1553141572788&q=protests+in+india&textDecorations=True&textFormat=HTML', 'posts': [], 'totalResults': 0, 'moreResultsAvailable': 0, 'warnings': None, 'requestsLeft': 997}\n"
     ]
    }
   ],
   "source": [
    "#descriptions = [article[\"description\"] for article in search_results[\"value\"]]\n",
    "print(search_results)"
   ]
  },
  {
   "cell_type": "code",
   "execution_count": null,
   "metadata": {},
   "outputs": [],
   "source": []
  }
 ],
 "metadata": {
  "kernelspec": {
   "display_name": "Python 3",
   "language": "python",
   "name": "python3"
  },
  "language_info": {
   "codemirror_mode": {
    "name": "ipython",
    "version": 3
   },
   "file_extension": ".py",
   "mimetype": "text/x-python",
   "name": "python",
   "nbconvert_exporter": "python",
   "pygments_lexer": "ipython3",
   "version": "3.5.5"
  }
 },
 "nbformat": 4,
 "nbformat_minor": 2
}
